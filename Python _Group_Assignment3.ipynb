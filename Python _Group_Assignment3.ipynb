{
 "cells": [
  {
   "cell_type": "code",
   "execution_count": 3,
   "metadata": {},
   "outputs": [
    {
     "name": "stdout",
     "output_type": "stream",
     "text": [
      "Requirement already satisfied: mysql-connector-python in c:\\users\\hp\\appdata\\local\\programs\\python\\python312\\lib\\site-packages (9.1.0)\n",
      "Note: you may need to restart the kernel to use updated packages.\n"
     ]
    },
    {
     "name": "stderr",
     "output_type": "stream",
     "text": [
      "\n",
      "[notice] A new release of pip is available: 24.0 -> 24.3.1\n",
      "[notice] To update, run: python.exe -m pip install --upgrade pip\n"
     ]
    }
   ],
   "source": [
    "pip install mysql-connector-python\n"
   ]
  },
  {
   "cell_type": "code",
   "execution_count": 6,
   "metadata": {},
   "outputs": [
    {
     "name": "stdout",
     "output_type": "stream",
     "text": [
      "Database and table created successfully.\n"
     ]
    }
   ],
   "source": [
    "import mysql.connector\n",
    "\n",
    "# Establish a connection to MySQL\n",
    "db_connection = mysql.connector.connect(\n",
    "    host=\"localhost\",\n",
    "    user=\"root\",      # Replace with your MySQL username\n",
    "    password=\"password\"    # Replace with your MySQL password\n",
    ")\n",
    "\n",
    "# Create a cursor object\n",
    "cursor = db_connection.cursor()\n",
    "\n",
    "# Execute SQL queries\n",
    "try:\n",
    "    # Create the database\n",
    "    cursor.execute(\"CREATE DATABASE IF NOT EXISTS loan_eligibility\")\n",
    "\n",
    "    # Select the database\n",
    "    cursor.execute(\"USE loan_eligibility\")\n",
    "\n",
    "    # Create the User table\n",
    "    cursor.execute(\"\"\"\n",
    "        CREATE TABLE IF NOT EXISTS User (\n",
    "            id INT AUTO_INCREMENT PRIMARY KEY,\n",
    "            username VARCHAR(50) NOT NULL UNIQUE,\n",
    "            password VARCHAR(100) NOT NULL\n",
    "        )\n",
    "    \"\"\")\n",
    "\n",
    "    print(\"Database and table created successfully.\")\n",
    "\n",
    "except mysql.connector.Error as err:\n",
    "    print(f\"Error: {err}\")\n",
    "\n",
    "# Close the connection\n",
    "cursor.close()\n",
    "db_connection.close()\n"
   ]
  },
  {
   "cell_type": "code",
   "execution_count": 8,
   "metadata": {},
   "outputs": [
    {
     "name": "stdout",
     "output_type": "stream",
     "text": [
      "User added successfully.\n"
     ]
    }
   ],
   "source": [
    "# Establish a connection to MySQL\n",
    "import mysql.connector\n",
    "\n",
    "db_connection = mysql.connector.connect(\n",
    "    host=\"localhost\",\n",
    "    user=\"root\",  # Replace with your correct MySQL username\n",
    "    password=\"password\",          # Replace with your correct MySQL password\n",
    "    database=\"loan_eligibility\"  # Replace with the correct database name\n",
    ")\n",
    "\n",
    "# Create a cursor object\n",
    "cursor = db_connection.cursor()\n",
    "\n",
    "# Insert data into the User table\n",
    "insert_query = \"INSERT INTO User (username, password) VALUES (%s, %s)\"\n",
    "values = (\"test_user\", \"test_password\")  # Replace with actual values\n",
    "\n",
    "cursor.execute(insert_query, values)\n",
    "db_connection.commit()  # Commit the transaction\n",
    "\n",
    "print(\"User added successfully.\")\n",
    "\n",
    "# Close the cursor and connection\n",
    "cursor.close()\n",
    "db_connection.close()\n"
   ]
  },
  {
   "cell_type": "code",
   "execution_count": 10,
   "metadata": {},
   "outputs": [
    {
     "name": "stdout",
     "output_type": "stream",
     "text": [
      "User found: (1, 'test_user', 'test_password')\n"
     ]
    }
   ],
   "source": [
    "# Establish a connection to MySQL\n",
    "import mysql.connector\n",
    "\n",
    "db_connection = mysql.connector.connect(\n",
    "    host=\"localhost\",\n",
    "    user=\"root\",  # Replace with your correct MySQL username\n",
    "    password=\"password\",          # Replace with your correct MySQL password\n",
    "    database=\"loan_eligibility\"  # Replace with the correct database name\n",
    ")\n",
    "\n",
    "# Create a cursor object\n",
    "cursor = db_connection.cursor()\n",
    "\n",
    "# Define the SELECT query\n",
    "username = \"test_user\"  # Replace with actual username\n",
    "password = \"test_password\"  # Replace with actual password\n",
    "\n",
    "# Use parameterized query to avoid SQL injection\n",
    "select_query = \"SELECT * FROM User WHERE username = %s AND password = %s\"\n",
    "cursor.execute(select_query, (username, password))\n",
    "\n",
    "# Fetch and print the result\n",
    "result = cursor.fetchone()\n",
    "if result:\n",
    "    print(\"User found:\", result)\n",
    "else:\n",
    "    print(\"User not found or incorrect credentials.\")\n",
    "\n",
    "# Close the cursor and connection\n",
    "cursor.close()\n",
    "db_connection.close()\n"
   ]
  },
  {
   "cell_type": "code",
   "execution_count": 12,
   "metadata": {},
   "outputs": [
    {
     "name": "stdout",
     "output_type": "stream",
     "text": [
      "(1, 'test_user', 'test_password')\n"
     ]
    }
   ],
   "source": [
    "# Establish a connection to MySQL\n",
    "import mysql.connector\n",
    "\n",
    "db_connection = mysql.connector.connect(\n",
    "    host=\"localhost\",\n",
    "    user=\"root\",  # Replace with your correct MySQL username\n",
    "    password=\"password\",           # Replace with your correct MySQL password\n",
    "    database=\"loan_eligibility\"  # Replace with the correct database name\n",
    ")\n",
    "\n",
    "# Create a cursor object\n",
    "cursor = db_connection.cursor()\n",
    "\n",
    "# Define and execute the SELECT query\n",
    "select_query = \"SELECT * FROM User\"\n",
    "cursor.execute(select_query)\n",
    "\n",
    "# Fetch and print the results\n",
    "results = cursor.fetchall()\n",
    "for row in results:\n",
    "    print(row)\n",
    "\n",
    "# Close the cursor and connection\n",
    "cursor.close()\n",
    "db_connection.close()\n"
   ]
  },
  {
   "cell_type": "code",
   "execution_count": null,
   "metadata": {},
   "outputs": [],
   "source": []
  }
 ],
 "metadata": {
  "kernelspec": {
   "display_name": "Python 3",
   "language": "python",
   "name": "python3"
  },
  "language_info": {
   "codemirror_mode": {
    "name": "ipython",
    "version": 3
   },
   "file_extension": ".py",
   "mimetype": "text/x-python",
   "name": "python",
   "nbconvert_exporter": "python",
   "pygments_lexer": "ipython3",
   "version": "3.12.2"
  }
 },
 "nbformat": 4,
 "nbformat_minor": 2
}
